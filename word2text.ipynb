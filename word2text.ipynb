{
 "cells": [
  {
   "cell_type": "code",
   "execution_count": 3,
   "metadata": {},
   "outputs": [
    {
     "name": "stdout",
     "output_type": "stream",
     "text": [
      "is shahrukh khans stardom fading after fan movie?what do you think about ananya pandey's acting skills?if indians don't have a problem with akshay kumar's canadian citizenship, why did aamir khan's comment about settling outside of india get criticism?can virat kohli surpass shahrukh khan in the future in terms of richness?why is it an issue with people whether akshay kumar is a patriot or not? is it compulsory to have indian citizenship to love your country?what if shahrukh khan takes the place of robert downey in avengers? he looks almost similar.will salman khan movie bharat break the record of tiger zinda hai?whose role was played by vicky kaushal in uri movie?which are the top 3 movies of kajol and srk?do you think it's right to question akshay kumar's national award in lieu of his canadian citizenship?what is the actual profession of poonam pandey (nasha movie actress)? is she a prostitute?why did ashutosh gowariker, who made a cinematic marvel lagaan, failed miserably in all his next ventures?who is the bollywood celebrity, bindiya goswami? have you seen any of her movies?is siddharth chopra an egoistic and insensitive human being for calling off two weddings in the last 3 years?did priyanka chopra's brother mistreat ishita kumar?among tara sutaria, ananya panday, sara ali khan, janhvi kapoor, who do you think have brought future in bollywood?who was bewafa in real? salman or aishwarya?what is the next movie of s. shankar after indian 2?who has best physique? either he john abraham or sahil khan?will the kohli-tendulkar comparisons ever stop?what are some hot pictures of ketika sharma?who is more handsome, hrithik roshan or rajkumar rao?does akshay kumar hold a canadian passport?why salman khan worked in so many hind movies in spite of not being a great actor (he himself admitted that in an interview?what are your expectations from amir khan starrer lal singh chadda?hi, i am pranav bhasinare you ravi teja.congratulations pranav! you win.hey aman, is everything okay?you can call me krupal.you can call me krupal modiyou can call me krupal chandresh modi.myself krupal.myself krupal modi.myself krupal chandresh modi.my phone number is 9833430535my email id is krupalmodi18@gmail.comkrupalkrupal modikrupal chandresh modi.my phone number is 9833430535. my email id is krupalmodi18@gmail.commy name is krupal. my phone number is 9833430535. my email id is krupalmodi18@gmail.commy name is krupal.my name is krupal modi.my name is krupal chandresh modii am no onegirl has no name all men must die.krupal must die.krupal modi must die\n",
      "[-9.9762074e-05  2.4932560e-03 -2.0395662e-03 -3.6823503e-03\n",
      " -2.6670878e-03 -2.7255381e-03 -9.8113844e-04 -1.3351344e-03\n",
      " -3.1422393e-03 -1.1976190e-03  3.2728703e-03 -2.7448710e-03\n",
      " -2.5254900e-03 -2.1564602e-03 -3.7069053e-03  2.4600609e-03\n",
      " -5.3741399e-04  3.6490541e-03 -1.3568898e-03 -3.8887199e-04\n",
      " -4.4584624e-03  2.6740564e-03  1.0290457e-03 -4.1454798e-03\n",
      " -6.8458013e-04  1.6654405e-03  2.8971639e-03 -7.3024572e-04\n",
      " -2.4777155e-03  1.2495954e-03  1.0458442e-03 -1.7726100e-03\n",
      "  1.7430361e-03 -1.3078637e-03  8.9028594e-04 -3.7664867e-03\n",
      " -2.1861997e-03 -1.9855159e-03 -1.3311068e-03  3.8530026e-04\n",
      "  6.2136498e-04  3.0377503e-03 -3.6063627e-03 -5.8303773e-04\n",
      " -7.4178405e-04 -2.3349894e-03  1.6938311e-03 -3.3403300e-03\n",
      "  3.2749135e-04 -3.2667225e-04 -4.6707150e-03  3.3181303e-03\n",
      "  4.1032881e-03 -4.1078785e-03 -9.2998554e-04 -3.8099196e-03\n",
      "  3.1155383e-04  5.0245570e-03 -4.6915649e-03  3.9092754e-03\n",
      " -9.7080460e-04  3.4671803e-03  8.1595026e-05  2.1635087e-03\n",
      "  4.8019541e-03 -1.8676887e-03 -1.9205845e-03 -2.7495900e-03\n",
      " -3.2972770e-03  7.2316820e-04  3.5619584e-03 -4.4181529e-03\n",
      "  2.6671976e-05  3.9860216e-04  3.8344932e-03 -3.5715431e-03\n",
      "  7.1472116e-04  2.5710498e-03  1.1901655e-03  2.7273577e-03\n",
      " -3.8933700e-03 -2.5543396e-03 -9.2925434e-04 -6.3181156e-04\n",
      "  3.2362798e-03  4.2882375e-03 -3.2910421e-03  2.4857086e-03\n",
      "  4.4391216e-03 -4.0939050e-03 -2.3162349e-03  1.5218613e-04\n",
      "  1.5585271e-03 -4.1742292e-03  2.7965072e-03  2.9541203e-04\n",
      "  4.6491409e-03  3.4683121e-03  4.4842488e-03 -1.0218373e-03]\n"
     ]
    },
    {
     "name": "stderr",
     "output_type": "stream",
     "text": [
      "/home/ameya/.local/lib/python2.7/site-packages/ipykernel_launcher.py:50: DeprecationWarning: Call to deprecated `__getitem__` (Method will be removed in 4.0.0, use self.wv.__getitem__() instead).\n"
     ]
    },
    {
     "data": {
      "text/plain": [
       "0.022960896"
      ]
     },
     "execution_count": 3,
     "metadata": {},
     "output_type": "execute_result"
    }
   ],
   "source": [
    "import nltk\n",
    "import re\n",
    "import time\n",
    "import gensim \n",
    "from gensim.models import Word2Vec \n",
    "\n",
    "from nltk.tokenize import sent_tokenize, word_tokenize\n",
    "from nltk import ne_chunk, pos_tag, word_tokenize\n",
    "from nltk.tag import pos_tag\n",
    "from nltk.tree import Tree\n",
    "import pandas as pd\n",
    "text=pd.read_csv(\"data_person_name.csv\")\n",
    "dict=pd.DataFrame(text)\n",
    "sentence=(dict[\"Sentence\"])\n",
    "train=[]\n",
    "for i in range(0,50):\n",
    "    train.append(sentence[i])\n",
    "    \n",
    "my_sent=train\n",
    "new=''\n",
    "for x in my_sent:\n",
    "    new += x\n",
    "new1=new.replace('/n',' ')\n",
    "new1=new1.replace('ModiMy','Modi.My')\n",
    "new1=new1.replace('KrupalMy','Krupal.My')\n",
    "new1=new1.replace('Modimyself','Modi.Myself')\n",
    "new1=new1.replace('Krupalmyself','Krupal.Myself')\n",
    "new1=new1.replace('TejaCongratulations','Teja.Congratulations')\n",
    "new1=new1.replace('KrupalYou','Krupal.You')\n",
    "new1=new1.lower()\n",
    "new1=new1.replace('diekrupal','die.krupal')\n",
    "print(new1)\n",
    "\n",
    "data = [] \n",
    "  \n",
    "# iterate through each sentence in the file \n",
    "for i in sent_tokenize(new1): \n",
    "    temp = [] \n",
    "      \n",
    "    # tokenize the sentence into words \n",
    "    for j in word_tokenize(i): \n",
    "        temp.append(j.lower()) \n",
    "  \n",
    "    data.append(temp) \n",
    "\n",
    "model1 = gensim.models.Word2Vec(data, min_count = 1,  \n",
    "                              size = 100, window = 5) \n",
    "model2 = gensim.models.Word2Vec(data, min_count = 1, size = 100, \n",
    "                                             window = 5, sg = 1) \n",
    "print(model1['akshay'])\n",
    "model1.wv['akshay']\n",
    "model1.wv.similarity('krupal', 'modi')"
   ]
  },
  {
   "cell_type": "code",
   "execution_count": null,
   "metadata": {},
   "outputs": [],
   "source": []
  },
  {
   "cell_type": "code",
   "execution_count": null,
   "metadata": {},
   "outputs": [],
   "source": []
  },
  {
   "cell_type": "code",
   "execution_count": null,
   "metadata": {},
   "outputs": [],
   "source": []
  }
 ],
 "metadata": {
  "kernelspec": {
   "display_name": "Python 2",
   "language": "python",
   "name": "python2"
  },
  "language_info": {
   "codemirror_mode": {
    "name": "ipython",
    "version": 2
   },
   "file_extension": ".py",
   "mimetype": "text/x-python",
   "name": "python",
   "nbconvert_exporter": "python",
   "pygments_lexer": "ipython2",
   "version": "2.7.15+"
  }
 },
 "nbformat": 4,
 "nbformat_minor": 2
}
